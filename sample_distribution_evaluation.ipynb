{
 "cells": [
  {
   "cell_type": "code",
   "execution_count": 0,
   "metadata": {
    "colab": {},
    "colab_type": "code",
    "id": "sW_riSmPh48L"
   },
   "outputs": [],
   "source": [
    "import pandas as pd\n",
    "import numpy as np\n",
    "import matplotlib.pyplot as plt\n",
    "import scipy.stats as sts\n",
    "%matplotlib inline"
   ]
  },
  {
   "cell_type": "markdown",
   "metadata": {
    "colab_type": "text",
    "id": "D0YstPPKh48U"
   },
   "source": [
    "# Дискретное распределение"
   ]
  },
  {
   "cell_type": "markdown",
   "metadata": {
    "colab_type": "text",
    "id": "UrUvCoXAh48W"
   },
   "source": [
    "Сгенерируем выборку объёма 100 из дискретного распределения с шестью равновероятными исходами."
   ]
  },
  {
   "cell_type": "code",
   "execution_count": 3,
   "metadata": {
    "colab": {
     "base_uri": "https://localhost:8080/",
     "height": 70
    },
    "colab_type": "code",
    "executionInfo": {
     "elapsed": 604,
     "status": "ok",
     "timestamp": 1541164004713,
     "user": {
      "displayName": "Виктор Кириллович Борзов",
      "photoUrl": "https://lh5.googleusercontent.com/-_FB8jULc904/AAAAAAAAAAI/AAAAAAAAABA/s4Px3AHaT-E/s64/photo.jpg",
      "userId": "16493643079036898791"
     },
     "user_tz": -180
    },
    "id": "-ja5lypWh48X",
    "outputId": "fd6ffe29-f49c-4865-f9ba-a0f872eee8a8"
   },
   "outputs": [
    {
     "name": "stdout",
     "output_type": "stream",
     "text": [
      "[2 6 6 6 4 4 6 6 3 3 6 6 6 4 3 4 1 1 4 2 1 2 4 6 2 2 3 5 4 1 5 4 3 6 4 5 1\n",
      " 5 3 1 5 2 6 2 3 1 4 5 6 2 1 6 6 5 3 3 4 1 5 4 1 1 1 6 4 1 6 5 4 5 5 1 2 4\n",
      " 5 1 4 2 4 5 3 1 1 2 5 2 3 6 6 6 4 3 3 1 3 2 3 6 5 3]\n"
     ]
    }
   ],
   "source": [
    "sample = np.random.choice([1,2,3,4,5,6], 100)\n",
    "print sample"
   ]
  },
  {
   "cell_type": "markdown",
   "metadata": {
    "colab_type": "text",
    "id": "O582DB42h48b"
   },
   "source": [
    "Представим теперь, что эта выборка была получена не искусственно, а путём подбрасывания симметричного шестигранного кубика 100 раз. Оценим вероятности выпадения каждой из сторон с помощью частот:"
   ]
  },
  {
   "cell_type": "code",
   "execution_count": 6,
   "metadata": {
    "colab": {
     "base_uri": "https://localhost:8080/",
     "height": 87
    },
    "colab_type": "code",
    "executionInfo": {
     "elapsed": 600,
     "status": "ok",
     "timestamp": 1541164110928,
     "user": {
      "displayName": "Виктор Кириллович Борзов",
      "photoUrl": "https://lh5.googleusercontent.com/-_FB8jULc904/AAAAAAAAAAI/AAAAAAAAABA/s4Px3AHaT-E/s64/photo.jpg",
      "userId": "16493643079036898791"
     },
     "user_tz": -180
    },
    "id": "QNP-UBrVh48c",
    "outputId": "d98c2e93-caed-4aef-d16d-419e208e6735",
    "scrolled": true
   },
   "outputs": [
    {
     "name": "stdout",
     "output_type": "stream",
     "text": [
      "Число выпадений каждой из сторон:\n",
      "Counter({6: 20, 1: 18, 4: 18, 3: 16, 5: 15, 2: 13})\n",
      "Вероятности выпадений каждой из сторон:\n",
      "{1: 0.18, 2: 0.13, 3: 0.16, 4: 0.18, 5: 0.15, 6: 0.2}\n"
     ]
    }
   ],
   "source": [
    "# посчитаем число выпадений каждой из сторон:\n",
    "from collections import Counter\n",
    "\n",
    "c = Counter(sample)\n",
    "\n",
    "print(\"Число выпадений каждой из сторон:\")    \n",
    "print(c)\n",
    "\n",
    "# теперь поделим на общее число подбрасываний и получим вероятности:\n",
    "print(\"Вероятности выпадений каждой из сторон:\")\n",
    "print({k: v/100.0 for k, v in c.items()})"
   ]
  },
  {
   "cell_type": "markdown",
   "metadata": {
    "colab_type": "text",
    "id": "Zo53ulGXh48i"
   },
   "source": [
    "Это и есть оценка функции вероятности дискретного распределения."
   ]
  },
  {
   "cell_type": "markdown",
   "metadata": {
    "colab_type": "text",
    "id": "jBrYaRbCh48i"
   },
   "source": [
    "# Непрерывное распределение"
   ]
  },
  {
   "cell_type": "markdown",
   "metadata": {
    "colab_type": "text",
    "id": "33nLCZ4Eh48j"
   },
   "source": [
    "Сгенерируем выборку объёма 100 из стандартного нормального распределения (с $\\mu=0$ и $\\sigma^2=1$):"
   ]
  },
  {
   "cell_type": "code",
   "execution_count": 45,
   "metadata": {
    "colab": {
     "base_uri": "https://localhost:8080/",
     "height": 34
    },
    "colab_type": "code",
    "executionInfo": {
     "elapsed": 1219,
     "status": "ok",
     "timestamp": 1541174764315,
     "user": {
      "displayName": "Виктор Кириллович Борзов",
      "photoUrl": "https://lh5.googleusercontent.com/-_FB8jULc904/AAAAAAAAAAI/AAAAAAAAABA/s4Px3AHaT-E/s64/photo.jpg",
      "userId": "16493643079036898791"
     },
     "user_tz": -180
    },
    "id": "WCdfYFz1h48l",
    "outputId": "affbd4b5-d0eb-4044-eb2b-9b23b7850db6"
   },
   "outputs": [
    {
     "name": "stdout",
     "output_type": "stream",
     "text": [
      "100\n"
     ]
    }
   ],
   "source": [
    "norm_rv = sts.norm(0, 1)\n",
    "sample = norm_rv.rvs(100)\n",
    "len(sample)"
   ]
  },
  {
   "cell_type": "markdown",
   "metadata": {
    "colab_type": "text",
    "id": "6-knRo5th48n"
   },
   "source": [
    "Эмпирическая функция распределения для полученной выборки:"
   ]
  },
  {
   "cell_type": "code",
   "execution_count": 0,
   "metadata": {
    "colab": {},
    "colab_type": "code",
    "id": "W5LobukYi18J"
   },
   "outputs": [],
   "source": [
    "x = np.linspace(-4,4,100)\n",
    "cdf = norm_rv.cdf(x)\n"
   ]
  },
  {
   "cell_type": "code",
   "execution_count": 42,
   "metadata": {
    "colab": {
     "base_uri": "https://localhost:8080/",
     "height": 279
    },
    "colab_type": "code",
    "executionInfo": {
     "elapsed": 666,
     "status": "ok",
     "timestamp": 1541173343019,
     "user": {
      "displayName": "Виктор Кириллович Борзов",
      "photoUrl": "https://lh5.googleusercontent.com/-_FB8jULc904/AAAAAAAAAAI/AAAAAAAAABA/s4Px3AHaT-E/s64/photo.jpg",
      "userId": "16493643079036898791"
     },
     "user_tz": -180
    },
    "id": "B3aGSbeUh48o",
    "outputId": "6563be37-0240-4155-d0de-bb6f35c7812e"
   },
   "outputs": [
    {
     "data": {
      "image/png": "[encoded data removed]",
      "text/plain": [
       "<matplotlib.figure.Figure at 0x7fb55aa0b5d0>"
      ]
     },
     "metadata": {
      "tags": []
     },
     "output_type": "display_data"
    }
   ],
   "source": [
    "x = np.linspace(-4,4,100)\n",
    "cdf = norm_rv.cdf(x)\n",
    "plt.plot(x, cdf, label='theoretical CDF')\n",
    "\n",
    "# для построения ECDF используем библиотеку statsmodels\n",
    "from statsmodels.distributions.empirical_distribution import ECDF\n",
    "ecdf = ECDF(sample)\n",
    "plt.step(ecdf.x, ecdf.y, label='ECDF')\n",
    "\n",
    "plt.ylabel('$f(x)$')\n",
    "plt.xlabel('$x$')\n",
    "plt.legend(loc='upper left')\n",
    "plt.show()"
   ]
  },
  {
   "cell_type": "markdown",
   "metadata": {
    "colab_type": "text",
    "id": "6NS6Q7ogh48s"
   },
   "source": [
    "Гистограмма выборки:"
   ]
  },
  {
   "cell_type": "code",
   "execution_count": 18,
   "metadata": {
    "colab": {
     "base_uri": "https://localhost:8080/",
     "height": 297
    },
    "colab_type": "code",
    "executionInfo": {
     "elapsed": 658,
     "status": "ok",
     "timestamp": 1541164809865,
     "user": {
      "displayName": "Виктор Кириллович Борзов",
      "photoUrl": "https://lh5.googleusercontent.com/-_FB8jULc904/AAAAAAAAAAI/AAAAAAAAABA/s4Px3AHaT-E/s64/photo.jpg",
      "userId": "16493643079036898791"
     },
     "user_tz": -180
    },
    "id": "g9pdX3AHh48u",
    "outputId": "1a71beb0-a645-455c-c7a8-029056f630ed"
   },
   "outputs": [
    {
     "data": {
      "text/plain": [
       "Text(0.5,0,u'$x$')"
      ]
     },
     "execution_count": 18,
     "metadata": {
      "tags": []
     },
     "output_type": "execute_result"
    },
    {
     "data": {
      "image/png": "[encoded data removed]",
      "text/plain": [
       "<matplotlib.figure.Figure at 0x7fb55acd27d0>"
      ]
     },
     "metadata": {
      "tags": []
     },
     "output_type": "display_data"
    }
   ],
   "source": [
    "plt.hist(sample, normed=True)\n",
    "plt.ylabel('fraction of samples')\n",
    "plt.xlabel('$x$')"
   ]
  },
  {
   "cell_type": "markdown",
   "metadata": {
    "colab_type": "text",
    "id": "nuEyRCXch48y"
   },
   "source": [
    "Попробуем задавать число карманов гистограммы вручную:"
   ]
  },
  {
   "cell_type": "code",
   "execution_count": 19,
   "metadata": {
    "colab": {
     "base_uri": "https://localhost:8080/",
     "height": 297
    },
    "colab_type": "code",
    "executionInfo": {
     "elapsed": 591,
     "status": "ok",
     "timestamp": 1541164812881,
     "user": {
      "displayName": "Виктор Кириллович Борзов",
      "photoUrl": "https://lh5.googleusercontent.com/-_FB8jULc904/AAAAAAAAAAI/AAAAAAAAABA/s4Px3AHaT-E/s64/photo.jpg",
      "userId": "16493643079036898791"
     },
     "user_tz": -180
    },
    "id": "8m-GhYH_h48y",
    "outputId": "3bbf57a6-b891-47a8-8fa4-6e41085c4e4a"
   },
   "outputs": [
    {
     "data": {
      "text/plain": [
       "Text(0.5,0,u'$x$')"
      ]
     },
     "execution_count": 19,
     "metadata": {
      "tags": []
     },
     "output_type": "execute_result"
    },
    {
     "data": {
      "image/png": "[encoded data removed]",
      "text/plain": [
       "<matplotlib.figure.Figure at 0x7fb55ab061d0>"
      ]
     },
     "metadata": {
      "tags": []
     },
     "output_type": "display_data"
    }
   ],
   "source": [
    "plt.hist(sample, bins=3, normed=True)\n",
    "plt.ylabel('fraction of samples')\n",
    "plt.xlabel('$x$')"
   ]
  },
  {
   "cell_type": "code",
   "execution_count": 20,
   "metadata": {
    "colab": {
     "base_uri": "https://localhost:8080/",
     "height": 297
    },
    "colab_type": "code",
    "executionInfo": {
     "elapsed": 833,
     "status": "ok",
     "timestamp": 1541164820805,
     "user": {
      "displayName": "Виктор Кириллович Борзов",
      "photoUrl": "https://lh5.googleusercontent.com/-_FB8jULc904/AAAAAAAAAAI/AAAAAAAAABA/s4Px3AHaT-E/s64/photo.jpg",
      "userId": "16493643079036898791"
     },
     "user_tz": -180
    },
    "id": "cdvHsnQhh483",
    "outputId": "ddb556ff-71d1-48cb-be70-8d1fcca70a90"
   },
   "outputs": [
    {
     "data": {
      "text/plain": [
       "Text(0.5,0,u'$x$')"
      ]
     },
     "execution_count": 20,
     "metadata": {
      "tags": []
     },
     "output_type": "execute_result"
    },
    {
     "data": {
      "image/png": "[encoded data removed]",
      "text/plain": [
       "<matplotlib.figure.Figure at 0x7fb55aa87f90>"
      ]
     },
     "metadata": {
      "tags": []
     },
     "output_type": "display_data"
    }
   ],
   "source": [
    "plt.hist(sample, bins=40, normed=True)\n",
    "plt.ylabel('fraction of samples')\n",
    "plt.xlabel('$x$')"
   ]
  },
  {
   "cell_type": "markdown",
   "metadata": {
    "colab_type": "text",
    "id": "B4Pq8knXh488"
   },
   "source": [
    "Эмпирическая оценка плотности, построенная по выборке с помощью ядерного сглаживания:"
   ]
  },
  {
   "cell_type": "code",
   "execution_count": 0,
   "metadata": {
    "colab": {},
    "colab_type": "code",
    "id": "0BfLB7ovh489",
    "outputId": "6d0287d3-c667-461b-9541-a66532b9b666"
   },
   "outputs": [
    {
     "data": {
      "text/plain": [
       "<matplotlib.text.Text at 0xbb2d7f0>"
      ]
     },
     "execution_count": 10,
     "metadata": {
      "tags": []
     },
     "output_type": "execute_result"
    },
    {
     "data": {
      "image/png": "[encoded data removed]",
      "text/plain": [
       "<matplotlib.figure.Figure at 0xbb840b8>"
      ]
     },
     "metadata": {
      "tags": []
     },
     "output_type": "display_data"
    }
   ],
   "source": [
    "# для построения используем библиотеку Pandas:\n",
    "df = pd.DataFrame(sample, columns=['KDE'])\n",
    "ax = df.plot(kind='density')\n",
    "\n",
    "# на том же графике построим теоретическую плотность распределения:\n",
    "x = np.linspace(-4,4,100)\n",
    "pdf = norm_rv.pdf(x)\n",
    "plt.plot(x, pdf, label='theoretical pdf', alpha=0.5)\n",
    "plt.legend()\n",
    "plt.ylabel('$f(x)$')\n",
    "plt.xlabel('$x$')"
   ]
  },
  {
   "cell_type": "code",
   "execution_count": 0,
   "metadata": {
    "colab": {},
    "colab_type": "code",
    "id": "TgkzveloyLDa"
   },
   "outputs": [],
   "source": [
    "import math"
   ]
  },
  {
   "cell_type": "code",
   "execution_count": 40,
   "metadata": {
    "colab": {
     "base_uri": "https://localhost:8080/",
     "height": 34
    },
    "colab_type": "code",
    "executionInfo": {
     "elapsed": 605,
     "status": "ok",
     "timestamp": 1541171140534,
     "user": {
      "displayName": "Виктор Кириллович Борзов",
      "photoUrl": "https://lh5.googleusercontent.com/-_FB8jULc904/AAAAAAAAAAI/AAAAAAAAABA/s4Px3AHaT-E/s64/photo.jpg",
      "userId": "16493643079036898791"
     },
     "user_tz": -180
    },
    "id": "dutXhetOyfB0",
    "outputId": "08bd225b-1144-485a-fe56-1fccaa5a4ad5"
   },
   "outputs": [
    {
     "data": {
      "text/plain": [
       "1287.03"
      ]
     },
     "execution_count": 40,
     "metadata": {
      "tags": []
     },
     "output_type": "execute_result"
    }
   ],
   "source": [
    "round(1197.69 + 3 * math.sqrt(116182.2 / 131), 2)"
   ]
  },
  {
   "cell_type": "code",
   "execution_count": 37,
   "metadata": {
    "colab": {
     "base_uri": "https://localhost:8080/",
     "height": 34
    },
    "colab_type": "code",
    "executionInfo": {
     "elapsed": 470,
     "status": "ok",
     "timestamp": 1541170997343,
     "user": {
      "displayName": "Виктор Кириллович Борзов",
      "photoUrl": "https://lh5.googleusercontent.com/-_FB8jULc904/AAAAAAAAAAI/AAAAAAAAABA/s4Px3AHaT-E/s64/photo.jpg",
      "userId": "16493643079036898791"
     },
     "user_tz": -180
    },
    "id": "b17U4WUh31c5",
    "outputId": "6c698ffb-7e61-4f9d-dee6-2e4486c590c5"
   },
   "outputs": [
    {
     "data": {
      "text/plain": [
       "-130"
      ]
     },
     "execution_count": 37,
     "metadata": {
      "tags": []
     },
     "output_type": "execute_result"
    }
   ],
   "source": [
    "116182.2 / 131"
   ]
  }
 ],
 "metadata": {
  "colab": {
   "name": "sample_distribution_evaluation.ipynb",
   "provenance": [],
   "version": "0.3.2"
  },
  "kernelspec": {
   "display_name": "Python 2",
   "language": "python",
   "name": "python2"
  },
  "language_info": {
   "codemirror_mode": {
    "name": "ipython",
    "version": 2
   },
   "file_extension": ".py",
   "mimetype": "text/x-python",
   "name": "python",
   "nbconvert_exporter": "python",
   "pygments_lexer": "ipython2",
   "version": "2.7.15"
  }
 },
 "nbformat": 4,
 "nbformat_minor": 1
}
