{
 "cells": [
  {
   "cell_type": "markdown",
   "metadata": {},
   "source": [
    "###### Задание №4 состоит из двух пунктов (вместе засчитываются за одну задачу)\n",
    "\n",
    "А. Практика. Написать программу для поиска ближайшей пары точек на плоскости методом сканирующей строки\n",
    "\n",
    "Дано: набор точек, заданных координатами x и y. Для тестирования создайте набор из 1000 точек путем генерации псевдослучайных чисел.\n",
    "\n",
    "Найти и вывести:\n",
    "\n",
    "1.       Евклидово расстояние между ближайшими точками\n",
    "\n",
    "2.       Номер первой точки пары и ее координаты\n",
    "\n",
    "3.       Номер второй точки пары и ее координаты\n",
    "\n",
    "4.       Число сделанных расчётов расстояний евклидова расстояния между парами точек в течение всего алгоритма (это число должно быть существенно меньше, чем количество всех пар точек)\n",
    "\n",
    " Б. Теория. Тест пересечения отрезка и треугольника в 3D.\n",
    "\n",
    "На лекции рассказывался тест пересечения двух отрезков в 2D на основе функции orient2D или CCW. Надо построить аналогичный тест для отрезка прямой и треугольника в 3D на основе функции orient3D: https://darrensweeney.net/2016/08/31/determinant-predicates/\n",
    "\n",
    "Тест должен определять сам факт пересечения."
   ]
  },
  {
   "cell_type": "code",
   "execution_count": 18,
   "metadata": {},
   "outputs": [],
   "source": [
    "from IPython import get_ipython\n",
    "get_ipython().magic('reset -sf')"
   ]
  },
  {
   "cell_type": "code",
   "execution_count": 19,
   "metadata": {},
   "outputs": [],
   "source": [
    "import numpy as np\n",
    "from random import randint\n",
    "import copy\n",
    "import time"
   ]
  },
  {
   "cell_type": "code",
   "execution_count": 20,
   "metadata": {},
   "outputs": [
    {
     "name": "stdout",
     "output_type": "stream",
     "text": [
      "(1000, 2) [ -41 -548] [ 879 -634]\n"
     ]
    }
   ],
   "source": [
    "# дано 500 пар точек (всего 1000) \n",
    "points = np.random.randint(-1000, 1000, (1000, 2))\n",
    "print(np.shape(points), points[0], points[1])"
   ]
  },
  {
   "cell_type": "markdown",
   "metadata": {},
   "source": [
    "###### Plane Sweep Algorithm\n",
    "\n",
    "1. Сортируем список точек слева направо по оси x\n",
    "2. Для каждой точки:\n",
    "    1. Мы удаляем из кандидатов все точки, которые расположены дальше по оси х, чем текущие точки с минимальным расстоянием\n",
    "    2. Мы добавляем всех кандидатов, которые расположены на минимальном расстоянии по оси y от текущей точки\n",
    "    3. Мы проверяем минимальное расстояние с текущей точкой у всех кандидатов, прошедших предварительную проверку\n",
    "    4. И, наконец, мы добавляем текущую точку в список кандидатов"
   ]
  },
  {
   "cell_type": "code",
   "execution_count": 21,
   "metadata": {},
   "outputs": [],
   "source": [
    "# https://baptiste-wicht.com/posts/2010/04/closest-pair-of-point-plane-sweep-algorithm.html"
   ]
  },
  {
   "cell_type": "code",
   "execution_count": 22,
   "metadata": {},
   "outputs": [],
   "source": [
    "def find_number_of_points(points, closestPair):\n",
    "    \n",
    "    index_0 = -1 \n",
    "    index_1 = -1\n",
    "    \n",
    "    for i in range(np.shape(points)[0]):\n",
    "            if points[i][0] == int(closestPair[0][0]):\n",
    "                if points[i][1] == int(closestPair[0][1]):\n",
    "                    index_0 = i\n",
    "                    \n",
    "            if points[i][0] == int(closestPair[1][0]):\n",
    "                if points[i][1] == int(closestPair[1][1]):\n",
    "                    index_1 = i\n",
    "                    \n",
    "    return index_0, index_1 "
   ]
  },
  {
   "cell_type": "code",
   "execution_count": 24,
   "metadata": {},
   "outputs": [],
   "source": [
    "def naive(points):\n",
    "    min_dist = 100000\n",
    "    dist = -1\n",
    "    closest_naive = np.zeros((2, 2))\n",
    "    \n",
    "    for point in points:\n",
    "        for point_2 in points:\n",
    "            if not np.array_equal(point, point_2):\n",
    "                dist = np.linalg.norm(point - point_2) # посчитали расстояние\n",
    "                if dist < min_dist:\n",
    "                    min_dist = dist\n",
    "                    closest_naive[0] = point\n",
    "                    closest_naive[1] = point_2\n",
    "                    \n",
    "    return np.linalg.norm(closest_naive[0] - closest_naive[1]), closest_naive"
   ]
  },
  {
   "cell_type": "code",
   "execution_count": 23,
   "metadata": {},
   "outputs": [],
   "source": [
    "def delete_candidates_from_array(sort_points, candidates, index):\n",
    "    \n",
    "    value = sort_points[index]\n",
    "    find_index = -1\n",
    "    \n",
    "    for i in range(np.shape(candidates)[0] - 1):\n",
    "        if candidates[i][0] == value[0]:\n",
    "            if candidates[i][1] == value[1]:\n",
    "                find_index = i\n",
    "                break;\n",
    "                \n",
    "    candidates.pop(find_index)\n",
    "    return candidates\n",
    "\n",
    "def closest_pair(points):\n",
    "    total = 0\n",
    "    closest_points = np.zeros((2, 2))\n",
    "    \n",
    "    cols = [0]\n",
    "    sort_points = points[np.lexsort(points.T[cols])] # отсортировали по x\n",
    "    candidates = [] # задали пустой массив для кандидатов\n",
    "    \n",
    "    left_index = 0\n",
    "    crt_min_dist = np.inf # текущее самое маленькое расстояние -- бесконечность\n",
    "    \n",
    "    for current_point in sort_points:\n",
    "        while current_point[0] - sort_points[left_index][0] > crt_min_dist:\n",
    "            if len(candidates) != 0: # если кандидаты не пустые\n",
    "                for current_cand in candidates:\n",
    "                    if int(current_cand[0]) == int(sort_points[left_index][0]): # по X-координате смотрим\n",
    "                        if int(current_cand[1]) == int(sort_points[left_index][1]):\n",
    "                            # удаляем кандидата из списка \n",
    "                            candidates = delete_candidates_from_array(sort_points, candidates, left_index) \n",
    "                            left_index += 1\n",
    "                            break;\n",
    "            else:\n",
    "                break\n",
    "        \n",
    "        if len(candidates) != 0:\n",
    "            for current_cand in candidates:\n",
    "                if current_cand[1] > current_point[1] - crt_min_dist: # по Y-координате смотрим\n",
    "                    if current_cand[1] < current_point[1] + crt_min_dist:\n",
    "                        distance = np.linalg.norm(current_cand - current_point) # посчитали расстояние\n",
    "                        total += 1 # посчитали расстояние -- прибавили\n",
    "                if distance < crt_min_dist:\n",
    "                    if distance != 0.0: # близкие точки, а не одна и та же точка\n",
    "                        crt_min_dist = distance\n",
    "                        closest_points[0] = current_point\n",
    "                        closest_points[1] = current_cand\n",
    "                    \n",
    "        candidates.append(list(current_point))\n",
    "        candidates = sorted(candidates, key=lambda y: y[1])\n",
    "        \n",
    "    return closest_points, total"
   ]
  },
  {
   "cell_type": "code",
   "execution_count": 28,
   "metadata": {},
   "outputs": [
    {
     "name": "stdout",
     "output_type": "stream",
     "text": [
      "Plane Sweep алгоритм занимает секунд:  0.04727911949157715\n",
      "1. Евклидово расстояние между ближайшими точками, Plane Sweep алгоритм:  1.0\n",
      "2. Номер первой точки пары и её координаты:  367 [-890.  -79.]\n",
      "3. Номер второй точки пары и её координаты:  36 [-891.  -79.]\n",
      "4. Сколько раз посчитали евклидово расстояние:  9\n",
      "\n",
      "\n",
      "Наивный алгоритм занимает секунд:  13.876905918121338\n",
      "Евклидово расстояние между ближайшими точками, наивный алгоритм:  1.0\n",
      "Координаты точек, найденные наивным алгоритмом:  [-891.  -79.] [-890.  -79.]\n"
     ]
    }
   ],
   "source": [
    "start_time = time.time()\n",
    "pair, total = closest_pair(points)\n",
    "print('Plane Sweep алгоритм занимает секунд: ', (time.time() - start_time))\n",
    "print('1. Евклидово расстояние между ближайшими точками, Plane Sweep алгоритм: ', distance)\n",
    "print('2. Номер первой точки пары и её координаты: ', cols_0, pair[0])\n",
    "print('3. Номер второй точки пары и её координаты: ', cols_1, pair[1])\n",
    "print('4. Сколько раз посчитали евклидово расстояние: ', total)\n",
    "\n",
    "distance = np.linalg.norm(pair[0] - pair[1])\n",
    "\n",
    "print('\\n')\n",
    "\n",
    "start_time = time.time()\n",
    "distance_naive, closest_naive = naive(points)\n",
    "print('Наивный алгоритм занимает секунд: ', (time.time() - start_time))\n",
    "\n",
    "cols_0, cols_1 = find_number_of_points(points, pair)\n",
    "\n",
    "print('Евклидово расстояние между ближайшими точками, наивный алгоритм: ', distance_naive)\n",
    "print('Координаты точек, найденные наивным алгоритмом: ', closest_naive[0], closest_naive[1])"
   ]
  },
  {
   "cell_type": "code",
   "execution_count": 29,
   "metadata": {},
   "outputs": [],
   "source": [
    "# https://docs.google.com/presentation/d/1nuIlnRX39omk5khA_HPGUba4HKIDNr94-1UTQ5npN-A/edit#slide=id.p3"
   ]
  },
  {
   "cell_type": "code",
   "execution_count": 30,
   "metadata": {},
   "outputs": [],
   "source": [
    "# http://algolist.manual.ru/maths/geom/intersect/linefacet3d.php"
   ]
  },
  {
   "cell_type": "code",
   "execution_count": 32,
   "metadata": {},
   "outputs": [],
   "source": [
    "# https://stackoverflow.com/questions/44513525/testing-whether-a-3d-point-is-inside-a-3d-polyhedron"
   ]
  },
  {
   "cell_type": "code",
   "execution_count": 33,
   "metadata": {},
   "outputs": [],
   "source": [
    "# https://arxiv.org/pdf/1810.01175.pdf стр 125"
   ]
  },
  {
   "cell_type": "code",
   "execution_count": null,
   "metadata": {},
   "outputs": [],
   "source": []
  }
 ],
 "metadata": {
  "kernelspec": {
   "display_name": "Python 3",
   "language": "python",
   "name": "python3"
  },
  "language_info": {
   "codemirror_mode": {
    "name": "ipython",
    "version": 3
   },
   "file_extension": ".py",
   "mimetype": "text/x-python",
   "name": "python",
   "nbconvert_exporter": "python",
   "pygments_lexer": "ipython3",
   "version": "3.7.0"
  }
 },
 "nbformat": 4,
 "nbformat_minor": 2
}
